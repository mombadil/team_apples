{
 "cells": [
  {
   "cell_type": "code",
   "execution_count": 3,
   "metadata": {
    "collapsed": false
   },
   "outputs": [
    {
     "name": "stdout",
     "output_type": "stream",
     "text": [
      "Parsed 3728 movies from 3728 files\n",
      "Parsed 4765 metacritic files from 4767 files\n"
     ]
    }
   ],
   "source": [
    "# load the different json files\n",
    "import loaddata\n",
    "import pandas as pd\n",
    "\n",
    "movie_dicts = loaddata.load_mojo_data()\n",
    "movie_df = pd.DataFrame(movie_dicts)\n",
    "\n",
    "meta_dicts = loaddata.load_metacritic_data()\n",
    "meta_df = pd.DataFrame(meta_dicts)"
   ]
  },
  {
   "cell_type": "code",
   "execution_count": 4,
   "metadata": {
    "collapsed": false
   },
   "outputs": [
    {
     "data": {
      "text/html": [
       "<div>\n",
       "<table border=\"1\" class=\"dataframe\">\n",
       "  <thead>\n",
       "    <tr style=\"text-align: right;\">\n",
       "      <th></th>\n",
       "      <th>alt_title</th>\n",
       "      <th>director</th>\n",
       "      <th>domestic_gross</th>\n",
       "      <th>mojo_slug</th>\n",
       "      <th>opening_per_theater</th>\n",
       "      <th>opening_weekend_take</th>\n",
       "      <th>production_budget</th>\n",
       "      <th>release_date_limited</th>\n",
       "      <th>release_date_wide</th>\n",
       "      <th>title</th>\n",
       "      <th>widest_release</th>\n",
       "      <th>worldwide_gross</th>\n",
       "      <th>year</th>\n",
       "    </tr>\n",
       "  </thead>\n",
       "  <tbody>\n",
       "    <tr>\n",
       "      <th>0</th>\n",
       "      <td>10,000 B.C. (2008)</td>\n",
       "      <td>Roland Emmerich</td>\n",
       "      <td>94784201.0</td>\n",
       "      <td>10000bc</td>\n",
       "      <td>10518.0</td>\n",
       "      <td>35867488.0</td>\n",
       "      <td>105000000.0</td>\n",
       "      <td>None</td>\n",
       "      <td>2008-03-07</td>\n",
       "      <td>10,000 B.C.</td>\n",
       "      <td>3454.0</td>\n",
       "      <td>269784201.0</td>\n",
       "      <td>2008.0</td>\n",
       "    </tr>\n",
       "  </tbody>\n",
       "</table>\n",
       "</div>"
      ],
      "text/plain": [
       "            alt_title         director  domestic_gross mojo_slug  \\\n",
       "0  10,000 B.C. (2008)  Roland Emmerich      94784201.0   10000bc   \n",
       "\n",
       "   opening_per_theater  opening_weekend_take  production_budget  \\\n",
       "0              10518.0            35867488.0        105000000.0   \n",
       "\n",
       "  release_date_limited release_date_wide        title  widest_release  \\\n",
       "0                 None        2008-03-07  10,000 B.C.          3454.0   \n",
       "\n",
       "   worldwide_gross    year  \n",
       "0      269784201.0  2008.0  "
      ]
     },
     "execution_count": 4,
     "metadata": {},
     "output_type": "execute_result"
    }
   ],
   "source": [
    "# look at the movie file\n",
    "movie_df.head(1)"
   ]
  },
  {
   "cell_type": "code",
   "execution_count": 6,
   "metadata": {
    "collapsed": false
   },
   "outputs": [
    {
     "data": {
      "text/html": [
       "<div>\n",
       "<table border=\"1\" class=\"dataframe\">\n",
       "  <thead>\n",
       "    <tr style=\"text-align: right;\">\n",
       "      <th></th>\n",
       "      <th>complete</th>\n",
       "      <th>director</th>\n",
       "      <th>genre</th>\n",
       "      <th>metacritic_page</th>\n",
       "      <th>metascore</th>\n",
       "      <th>num_critic_reviews</th>\n",
       "      <th>num_user_ratings</th>\n",
       "      <th>num_user_reviews</th>\n",
       "      <th>rating</th>\n",
       "      <th>release_date</th>\n",
       "      <th>runtime_minutes</th>\n",
       "      <th>studio</th>\n",
       "      <th>title</th>\n",
       "      <th>unable to retrieve</th>\n",
       "      <th>user_score</th>\n",
       "      <th>year</th>\n",
       "    </tr>\n",
       "  </thead>\n",
       "  <tbody>\n",
       "    <tr>\n",
       "      <th>0</th>\n",
       "      <td>True</td>\n",
       "      <td>Gil Junger</td>\n",
       "      <td>Comedy, Romance</td>\n",
       "      <td>/movie/10-things-i-hate-about-you</td>\n",
       "      <td>70.0</td>\n",
       "      <td>18, 7, 1, 26</td>\n",
       "      <td>175.0</td>\n",
       "      <td>27, 1, 1, 29</td>\n",
       "      <td>PG-13</td>\n",
       "      <td>1999-03-31</td>\n",
       "      <td>97.0</td>\n",
       "      <td>Buena Vista Pictures</td>\n",
       "      <td>10 Things I Hate About You</td>\n",
       "      <td>NaN</td>\n",
       "      <td>7</td>\n",
       "      <td>1999</td>\n",
       "    </tr>\n",
       "  </tbody>\n",
       "</table>\n",
       "</div>"
      ],
      "text/plain": [
       "  complete    director            genre                    metacritic_page  \\\n",
       "0     True  Gil Junger  Comedy, Romance  /movie/10-things-i-hate-about-you   \n",
       "\n",
       "   metascore num_critic_reviews  num_user_ratings num_user_reviews rating  \\\n",
       "0       70.0       18, 7, 1, 26             175.0     27, 1, 1, 29  PG-13   \n",
       "\n",
       "  release_date  runtime_minutes                studio  \\\n",
       "0   1999-03-31             97.0  Buena Vista Pictures   \n",
       "\n",
       "                        title unable to retrieve user_score  year  \n",
       "0  10 Things I Hate About You                NaN          7  1999  "
      ]
     },
     "execution_count": 6,
     "metadata": {},
     "output_type": "execute_result"
    }
   ],
   "source": [
    "# look at the meta file\n",
    "meta_df.head(1)"
   ]
  },
  {
   "cell_type": "code",
   "execution_count": 5,
   "metadata": {
    "collapsed": false
   },
   "outputs": [],
   "source": [
    "# merge the data \n",
    "movie_df['title_strip']=movie_df['title'].str.strip()\n",
    "meta_df['title_strip']=meta_df['title'].str.strip()\n",
    "\n",
    "movie_inner=movie_df.merge(meta_df,on='title_strip', how='inner')\n"
   ]
  },
  {
   "cell_type": "code",
   "execution_count": 9,
   "metadata": {
    "collapsed": false
   },
   "outputs": [
    {
     "data": {
      "text/plain": [
       "array([u'G', u'PG-13', u'R', u'Not Rated', u'PG', u'', u'Unrated',\n",
       "       u'TV-MA', u'NC-17', u'TV-PG', u'TV-14', u'M', u'X', u'TV-Y7',\n",
       "       u'PG--13', u'Approved', u'Open', u'GP', u'TV-G'], dtype=object)"
      ]
     },
     "execution_count": 9,
     "metadata": {},
     "output_type": "execute_result"
    }
   ],
   "source": [
    "movie_inner[:200]\n",
    "\n",
    "movie_inner['rating'].unique()"
   ]
  },
  {
   "cell_type": "code",
   "execution_count": 10,
   "metadata": {
    "collapsed": false
   },
   "outputs": [
    {
     "data": {
      "text/plain": [
       "0       2704.0\n",
       "1       2311.0\n",
       "2         63.0\n",
       "3          2.0\n",
       "4        111.0\n",
       "5        916.0\n",
       "6       2331.0\n",
       "7         31.0\n",
       "8       3453.0\n",
       "9         45.0\n",
       "10      2313.0\n",
       "11         6.0\n",
       "12      2733.0\n",
       "13      2706.0\n",
       "14      3255.0\n",
       "15      3444.0\n",
       "16        61.0\n",
       "17       147.0\n",
       "18      2952.0\n",
       "19      2771.0\n",
       "20       411.0\n",
       "21      3148.0\n",
       "22       495.0\n",
       "23      3074.0\n",
       "24      2523.0\n",
       "25      2305.0\n",
       "26        42.0\n",
       "27       148.0\n",
       "28      3418.0\n",
       "29      3028.0\n",
       "         ...  \n",
       "3270    3434.0\n",
       "3271      32.0\n",
       "3272    3515.0\n",
       "3273       8.0\n",
       "3274    2548.0\n",
       "3275     150.0\n",
       "3276    3466.0\n",
       "3277    1943.0\n",
       "3278     252.0\n",
       "3279    3137.0\n",
       "3280     987.0\n",
       "3281    1416.0\n",
       "3282     476.0\n",
       "3283    2437.0\n",
       "3284    2772.0\n",
       "3285     101.0\n",
       "3286    3210.0\n",
       "3287    1873.0\n",
       "3288       5.0\n",
       "3289    2948.0\n",
       "3290      21.0\n",
       "3291      24.0\n",
       "3292    2735.0\n",
       "3293       9.0\n",
       "3294      63.0\n",
       "3295      11.0\n",
       "3296    3171.0\n",
       "3297    3482.0\n",
       "3298    2522.0\n",
       "3299    2501.0\n",
       "Name: widest_release, dtype: float64"
      ]
     },
     "execution_count": 10,
     "metadata": {},
     "output_type": "execute_result"
    }
   ],
   "source": [
    "movie_inner['widest_release']"
   ]
  },
  {
   "cell_type": "code",
   "execution_count": null,
   "metadata": {
    "collapsed": true
   },
   "outputs": [],
   "source": []
  }
 ],
 "metadata": {
  "kernelspec": {
   "display_name": "Python 2",
   "language": "python",
   "name": "python2"
  },
  "language_info": {
   "codemirror_mode": {
    "name": "ipython",
    "version": 2
   },
   "file_extension": ".py",
   "mimetype": "text/x-python",
   "name": "python",
   "nbconvert_exporter": "python",
   "pygments_lexer": "ipython2",
   "version": "2.7.11"
  }
 },
 "nbformat": 4,
 "nbformat_minor": 0
}
