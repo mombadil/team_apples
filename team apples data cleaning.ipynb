{
 "cells": [
  {
   "cell_type": "code",
   "execution_count": 1,
   "metadata": {
    "collapsed": false
   },
   "outputs": [
    {
     "name": "stdout",
     "output_type": "stream",
     "text": [
      "Parsed 3728 movies from 3728 files\n",
      "Parsed 4765 metacritic files from 4767 files\n"
     ]
    }
   ],
   "source": [
    "# load the different json files\n",
    "import loaddata\n",
    "import pandas as pd\n",
    "\n",
    "movie_dicts = loaddata.load_mojo_data()\n",
    "movie_df = pd.DataFrame(movie_dicts)\n",
    "\n",
    "meta_dicts = loaddata.load_metacritic_data()\n",
    "meta_df = pd.DataFrame(meta_dicts)"
   ]
  },
  {
   "cell_type": "code",
   "execution_count": 5,
   "metadata": {
    "collapsed": false
   },
   "outputs": [
    {
     "data": {
      "text/html": [
       "<div>\n",
       "<table border=\"1\" class=\"dataframe\">\n",
       "  <thead>\n",
       "    <tr style=\"text-align: right;\">\n",
       "      <th></th>\n",
       "      <th>alt_title</th>\n",
       "      <th>director</th>\n",
       "      <th>domestic_gross</th>\n",
       "      <th>mojo_slug</th>\n",
       "      <th>opening_per_theater</th>\n",
       "      <th>opening_weekend_take</th>\n",
       "      <th>production_budget</th>\n",
       "      <th>release_date_limited</th>\n",
       "      <th>release_date_wide</th>\n",
       "      <th>title</th>\n",
       "      <th>widest_release</th>\n",
       "      <th>worldwide_gross</th>\n",
       "      <th>year</th>\n",
       "    </tr>\n",
       "  </thead>\n",
       "  <tbody>\n",
       "    <tr>\n",
       "      <th>0</th>\n",
       "      <td>10,000 B.C. (2008)</td>\n",
       "      <td>Roland Emmerich</td>\n",
       "      <td>94784201.0</td>\n",
       "      <td>10000bc</td>\n",
       "      <td>10518.0</td>\n",
       "      <td>35867488.0</td>\n",
       "      <td>105000000.0</td>\n",
       "      <td>None</td>\n",
       "      <td>2008-03-07</td>\n",
       "      <td>10,000 B.C.</td>\n",
       "      <td>3454.0</td>\n",
       "      <td>269784201.0</td>\n",
       "      <td>2008.0</td>\n",
       "    </tr>\n",
       "  </tbody>\n",
       "</table>\n",
       "</div>"
      ],
      "text/plain": [
       "            alt_title         director  domestic_gross mojo_slug  \\\n",
       "0  10,000 B.C. (2008)  Roland Emmerich      94784201.0   10000bc   \n",
       "\n",
       "   opening_per_theater  opening_weekend_take  production_budget  \\\n",
       "0              10518.0            35867488.0        105000000.0   \n",
       "\n",
       "  release_date_limited release_date_wide        title  widest_release  \\\n",
       "0                 None        2008-03-07  10,000 B.C.          3454.0   \n",
       "\n",
       "   worldwide_gross    year  \n",
       "0      269784201.0  2008.0  "
      ]
     },
     "execution_count": 5,
     "metadata": {},
     "output_type": "execute_result"
    }
   ],
   "source": [
    "# look at the movie file\n",
    "movie_df.head(1)"
   ]
  },
  {
   "cell_type": "code",
   "execution_count": 6,
   "metadata": {
    "collapsed": false
   },
   "outputs": [
    {
     "data": {
      "text/html": [
       "<div>\n",
       "<table border=\"1\" class=\"dataframe\">\n",
       "  <thead>\n",
       "    <tr style=\"text-align: right;\">\n",
       "      <th></th>\n",
       "      <th>complete</th>\n",
       "      <th>director</th>\n",
       "      <th>genre</th>\n",
       "      <th>metacritic_page</th>\n",
       "      <th>metascore</th>\n",
       "      <th>num_critic_reviews</th>\n",
       "      <th>num_user_ratings</th>\n",
       "      <th>num_user_reviews</th>\n",
       "      <th>rating</th>\n",
       "      <th>release_date</th>\n",
       "      <th>runtime_minutes</th>\n",
       "      <th>studio</th>\n",
       "      <th>title</th>\n",
       "      <th>unable to retrieve</th>\n",
       "      <th>user_score</th>\n",
       "      <th>year</th>\n",
       "    </tr>\n",
       "  </thead>\n",
       "  <tbody>\n",
       "    <tr>\n",
       "      <th>0</th>\n",
       "      <td>True</td>\n",
       "      <td>Gil Junger</td>\n",
       "      <td>Comedy, Romance</td>\n",
       "      <td>/movie/10-things-i-hate-about-you</td>\n",
       "      <td>70.0</td>\n",
       "      <td>18, 7, 1, 26</td>\n",
       "      <td>175.0</td>\n",
       "      <td>27, 1, 1, 29</td>\n",
       "      <td>PG-13</td>\n",
       "      <td>1999-03-31</td>\n",
       "      <td>97.0</td>\n",
       "      <td>Buena Vista Pictures</td>\n",
       "      <td>10 Things I Hate About You</td>\n",
       "      <td>NaN</td>\n",
       "      <td>7</td>\n",
       "      <td>1999</td>\n",
       "    </tr>\n",
       "  </tbody>\n",
       "</table>\n",
       "</div>"
      ],
      "text/plain": [
       "  complete    director            genre                    metacritic_page  \\\n",
       "0     True  Gil Junger  Comedy, Romance  /movie/10-things-i-hate-about-you   \n",
       "\n",
       "   metascore num_critic_reviews  num_user_ratings num_user_reviews rating  \\\n",
       "0       70.0       18, 7, 1, 26             175.0     27, 1, 1, 29  PG-13   \n",
       "\n",
       "  release_date  runtime_minutes                studio  \\\n",
       "0   1999-03-31             97.0  Buena Vista Pictures   \n",
       "\n",
       "                        title unable to retrieve user_score  year  \n",
       "0  10 Things I Hate About You                NaN          7  1999  "
      ]
     },
     "execution_count": 6,
     "metadata": {},
     "output_type": "execute_result"
    }
   ],
   "source": [
    "# look at the meta file\n",
    "meta_df.head(1)"
   ]
  },
  {
   "cell_type": "code",
   "execution_count": null,
   "metadata": {
    "collapsed": true
   },
   "outputs": [],
   "source": [
    "# merge the data \n",
    "from merge import merge_data\n",
    "merged_data=mmerge_data(movies_df, meta_df, 'title')"
   ]
  }
 ],
 "metadata": {
  "kernelspec": {
   "display_name": "Python 2",
   "language": "python",
   "name": "python2"
  },
  "language_info": {
   "codemirror_mode": {
    "name": "ipython",
    "version": 2
   },
   "file_extension": ".py",
   "mimetype": "text/x-python",
   "name": "python",
   "nbconvert_exporter": "python",
   "pygments_lexer": "ipython2",
   "version": "2.7.11"
  }
 },
 "nbformat": 4,
 "nbformat_minor": 0
}
