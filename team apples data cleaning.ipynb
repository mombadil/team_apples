{
 "cells": [
  {
   "cell_type": "code",
   "execution_count": 3,
   "metadata": {
    "collapsed": false
   },
   "outputs": [
    {
     "name": "stdout",
     "output_type": "stream",
     "text": [
      "Parsed 3728 movies from 3728 files\n",
      "Parsed 4765 metacritic files from 4767 files\n"
     ]
    }
   ],
   "source": [
    "# load the different json files\n",
    "import loaddata\n",
    "import pandas as pd\n",
    "\n",
    "movie_dicts = loaddata.load_mojo_data()\n",
    "movie_df = pd.DataFrame(movie_dicts)\n",
    "\n",
    "meta_dicts = loaddata.load_metacritic_data()\n",
    "meta_df = pd.DataFrame(meta_dicts)"
   ]
  },
  {
   "cell_type": "code",
   "execution_count": 6,
   "metadata": {
    "collapsed": false
   },
   "outputs": [
    {
     "name": "stdout",
     "output_type": "stream",
     "text": [
      "  complete    director            genre                    metacritic_page  \\\n",
      "0     True  Gil Junger  Comedy, Romance  /movie/10-things-i-hate-about-you   \n",
      "\n",
      "   metascore num_critic_reviews  num_user_ratings num_user_reviews rating  \\\n",
      "0       70.0       18, 7, 1, 26             175.0     27, 1, 1, 29  PG-13   \n",
      "\n",
      "  release_date  runtime_minutes                studio  \\\n",
      "0   1999-03-31             97.0  Buena Vista Pictures   \n",
      "\n",
      "                        title unable to retrieve user_score  year  \n",
      "0  10 Things I Hate About You                NaN          7  1999  \n"
     ]
    }
   ],
   "source": [
    "# look at the different files\n",
    "movie_df.head(1)\n",
    "print meta_df.head(1)"
   ]
  },
  {
   "cell_type": "code",
   "execution_count": 7,
   "metadata": {
    "collapsed": false
   },
   "outputs": [
    {
     "ename": "ImportError",
     "evalue": "No module named merge",
     "output_type": "error",
     "traceback": [
      "\u001b[1;31m---------------------------------------------------------------------------\u001b[0m",
      "\u001b[1;31mImportError\u001b[0m                               Traceback (most recent call last)",
      "\u001b[1;32m<ipython-input-7-dc78e2ddc8db>\u001b[0m in \u001b[0;36m<module>\u001b[1;34m()\u001b[0m\n\u001b[0;32m      1\u001b[0m \u001b[1;31m# merge the data\u001b[0m\u001b[1;33m\u001b[0m\u001b[1;33m\u001b[0m\u001b[0m\n\u001b[1;32m----> 2\u001b[1;33m \u001b[1;32mfrom\u001b[0m \u001b[0mmerge\u001b[0m \u001b[1;32mimport\u001b[0m \u001b[0mmerge_data\u001b[0m\u001b[1;33m\u001b[0m\u001b[0m\n\u001b[0m\u001b[0;32m      3\u001b[0m \u001b[0mmerged_data\u001b[0m\u001b[1;33m=\u001b[0m\u001b[0mmmerge_data\u001b[0m\u001b[1;33m(\u001b[0m\u001b[0mmovies_df\u001b[0m\u001b[1;33m,\u001b[0m \u001b[0mmeta_df\u001b[0m\u001b[1;33m,\u001b[0m \u001b[1;34m'title'\u001b[0m\u001b[1;33m)\u001b[0m\u001b[1;33m\u001b[0m\u001b[0m\n",
      "\u001b[1;31mImportError\u001b[0m: No module named merge"
     ]
    }
   ],
   "source": [
    "# merge the data \n",
    "from merge import merge_data\n",
    "merged_data=mmerge_data(movies_df, meta_df, 'title')"
   ]
  }
 ],
 "metadata": {
  "kernelspec": {
   "display_name": "Python 2",
   "language": "python",
   "name": "python2"
  },
  "language_info": {
   "codemirror_mode": {
    "name": "ipython",
    "version": 2
   },
   "file_extension": ".py",
   "mimetype": "text/x-python",
   "name": "python",
   "nbconvert_exporter": "python",
   "pygments_lexer": "ipython2",
   "version": "2.7.11"
  }
 },
 "nbformat": 4,
 "nbformat_minor": 0
}
