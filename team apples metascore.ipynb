{
 "cells": [
  {
   "cell_type": "code",
   "execution_count": 2,
   "metadata": {
    "collapsed": false
   },
   "outputs": [
    {
     "name": "stdout",
     "output_type": "stream",
     "text": [
      "Parsed 3728 movies from 3728 files\n",
      "Parsed 4765 metacritic files from 4767 files\n"
     ]
    },
    {
     "name": "stderr",
     "output_type": "stream",
     "text": [
      ":0: FutureWarning: IPython widgets are experimental and may change in the future.\n"
     ]
    }
   ],
   "source": [
    "# load the different json files\n",
    "import loaddata\n",
    "import pandas as pd\n",
    "import seaborn \n",
    "\n",
    "movie_dicts = loaddata.load_mojo_data()\n",
    "movie_df = pd.DataFrame(movie_dicts)\n",
    "\n",
    "meta_dicts = loaddata.load_metacritic_data()\n",
    "meta_df = pd.DataFrame(meta_dicts)"
   ]
  },
  {
   "cell_type": "code",
   "execution_count": 21,
   "metadata": {
    "collapsed": false
   },
   "outputs": [],
   "source": [
    "# look at the movie file\n",
    "#movie_df.head(1)"
   ]
  },
  {
   "cell_type": "code",
   "execution_count": 22,
   "metadata": {
    "collapsed": false
   },
   "outputs": [],
   "source": [
    "# look at the meta file\n",
    "#meta_df.head(1)"
   ]
  },
  {
   "cell_type": "code",
   "execution_count": 3,
   "metadata": {
    "collapsed": false
   },
   "outputs": [],
   "source": [
    "# merge the data \n",
    "movie_df['title_strip']=movie_df['title'].str.strip()\n",
    "meta_df['title_strip']=meta_df['title'].str.strip()\n",
    "\n",
    "movie_inner=movie_df.merge(meta_df,on='title_strip', how='inner')\n"
   ]
  },
  {
   "cell_type": "code",
   "execution_count": 75,
   "metadata": {
    "collapsed": false,
    "scrolled": true
   },
   "outputs": [
    {
     "data": {
      "text/html": [
       "<div>\n",
       "<table border=\"1\" class=\"dataframe\">\n",
       "  <thead>\n",
       "    <tr style=\"text-align: right;\">\n",
       "      <th></th>\n",
       "      <th>domestic_gross</th>\n",
       "      <th>opening_per_theater</th>\n",
       "      <th>opening_weekend_take</th>\n",
       "      <th>production_budget</th>\n",
       "      <th>widest_release</th>\n",
       "      <th>worldwide_gross</th>\n",
       "      <th>year_x</th>\n",
       "      <th>metascore</th>\n",
       "      <th>num_user_ratings</th>\n",
       "      <th>runtime_minutes</th>\n",
       "      <th>...</th>\n",
       "      <th>top_director_ind</th>\n",
       "      <th>big_studio</th>\n",
       "      <th>drama_ind</th>\n",
       "      <th>action_ind</th>\n",
       "      <th>scifi_ind</th>\n",
       "      <th>comedy_ind</th>\n",
       "      <th>thriller_ind</th>\n",
       "      <th>documentary_ind</th>\n",
       "      <th>romance_ind</th>\n",
       "      <th>family_ind</th>\n",
       "    </tr>\n",
       "  </thead>\n",
       "  <tbody>\n",
       "    <tr>\n",
       "      <th>count</th>\n",
       "      <td>3.246000e+03</td>\n",
       "      <td>3166.000000</td>\n",
       "      <td>3.166000e+03</td>\n",
       "      <td>1.451000e+03</td>\n",
       "      <td>3186.000000</td>\n",
       "      <td>2.547000e+03</td>\n",
       "      <td>3298.000000</td>\n",
       "      <td>3221.000000</td>\n",
       "      <td>3163.000000</td>\n",
       "      <td>3247.000000</td>\n",
       "      <td>...</td>\n",
       "      <td>3300</td>\n",
       "      <td>3300</td>\n",
       "      <td>3300.000000</td>\n",
       "      <td>3300</td>\n",
       "      <td>3300.000000</td>\n",
       "      <td>3300.000000</td>\n",
       "      <td>3300.000000</td>\n",
       "      <td>3300.000000</td>\n",
       "      <td>3300.000000</td>\n",
       "      <td>3300.000000</td>\n",
       "    </tr>\n",
       "    <tr>\n",
       "      <th>mean</th>\n",
       "      <td>3.646224e+07</td>\n",
       "      <td>7826.065066</td>\n",
       "      <td>8.953362e+06</td>\n",
       "      <td>4.571090e+07</td>\n",
       "      <td>1377.556497</td>\n",
       "      <td>9.140167e+07</td>\n",
       "      <td>2004.987871</td>\n",
       "      <td>57.694815</td>\n",
       "      <td>120.453051</td>\n",
       "      <td>107.474592</td>\n",
       "      <td>...</td>\n",
       "      <td>0.01939394</td>\n",
       "      <td>0.4130303</td>\n",
       "      <td>0.141818</td>\n",
       "      <td>0</td>\n",
       "      <td>0.051818</td>\n",
       "      <td>0.239091</td>\n",
       "      <td>0.306364</td>\n",
       "      <td>0.026364</td>\n",
       "      <td>0.198182</td>\n",
       "      <td>0.081818</td>\n",
       "    </tr>\n",
       "    <tr>\n",
       "      <th>std</th>\n",
       "      <td>5.661826e+07</td>\n",
       "      <td>8429.076101</td>\n",
       "      <td>1.397680e+07</td>\n",
       "      <td>4.034660e+07</td>\n",
       "      <td>1288.534434</td>\n",
       "      <td>1.487597e+08</td>\n",
       "      <td>8.713648</td>\n",
       "      <td>18.186875</td>\n",
       "      <td>216.955132</td>\n",
       "      <td>19.431917</td>\n",
       "      <td>...</td>\n",
       "      <td>0.137926</td>\n",
       "      <td>0.4924528</td>\n",
       "      <td>0.348916</td>\n",
       "      <td>0</td>\n",
       "      <td>0.221693</td>\n",
       "      <td>0.426593</td>\n",
       "      <td>0.461052</td>\n",
       "      <td>0.160238</td>\n",
       "      <td>0.398690</td>\n",
       "      <td>0.274129</td>\n",
       "    </tr>\n",
       "    <tr>\n",
       "      <th>min</th>\n",
       "      <td>7.200000e+01</td>\n",
       "      <td>72.000000</td>\n",
       "      <td>7.200000e+01</td>\n",
       "      <td>2.200000e+02</td>\n",
       "      <td>1.000000</td>\n",
       "      <td>7.200000e+01</td>\n",
       "      <td>1936.000000</td>\n",
       "      <td>1.000000</td>\n",
       "      <td>4.000000</td>\n",
       "      <td>48.000000</td>\n",
       "      <td>...</td>\n",
       "      <td>False</td>\n",
       "      <td>False</td>\n",
       "      <td>0.000000</td>\n",
       "      <td>0</td>\n",
       "      <td>0.000000</td>\n",
       "      <td>0.000000</td>\n",
       "      <td>0.000000</td>\n",
       "      <td>0.000000</td>\n",
       "      <td>0.000000</td>\n",
       "      <td>0.000000</td>\n",
       "    </tr>\n",
       "    <tr>\n",
       "      <th>25%</th>\n",
       "      <td>6.809290e+05</td>\n",
       "      <td>3275.250000</td>\n",
       "      <td>5.002875e+04</td>\n",
       "      <td>1.675000e+07</td>\n",
       "      <td>56.000000</td>\n",
       "      <td>5.902596e+06</td>\n",
       "      <td>2001.000000</td>\n",
       "      <td>45.000000</td>\n",
       "      <td>23.000000</td>\n",
       "      <td>94.000000</td>\n",
       "      <td>...</td>\n",
       "      <td>0</td>\n",
       "      <td>0</td>\n",
       "      <td>0.000000</td>\n",
       "      <td>0</td>\n",
       "      <td>0.000000</td>\n",
       "      <td>0.000000</td>\n",
       "      <td>0.000000</td>\n",
       "      <td>0.000000</td>\n",
       "      <td>0.000000</td>\n",
       "      <td>0.000000</td>\n",
       "    </tr>\n",
       "    <tr>\n",
       "      <th>50%</th>\n",
       "      <td>1.409998e+07</td>\n",
       "      <td>5570.000000</td>\n",
       "      <td>3.546214e+06</td>\n",
       "      <td>3.400000e+07</td>\n",
       "      <td>1135.000000</td>\n",
       "      <td>3.729544e+07</td>\n",
       "      <td>2007.000000</td>\n",
       "      <td>58.000000</td>\n",
       "      <td>57.000000</td>\n",
       "      <td>104.000000</td>\n",
       "      <td>...</td>\n",
       "      <td>0</td>\n",
       "      <td>0</td>\n",
       "      <td>0.000000</td>\n",
       "      <td>0</td>\n",
       "      <td>0.000000</td>\n",
       "      <td>0.000000</td>\n",
       "      <td>0.000000</td>\n",
       "      <td>0.000000</td>\n",
       "      <td>0.000000</td>\n",
       "      <td>0.000000</td>\n",
       "    </tr>\n",
       "    <tr>\n",
       "      <th>75%</th>\n",
       "      <td>5.028636e+07</td>\n",
       "      <td>9470.500000</td>\n",
       "      <td>1.279583e+07</td>\n",
       "      <td>6.500000e+07</td>\n",
       "      <td>2588.500000</td>\n",
       "      <td>1.170476e+08</td>\n",
       "      <td>2011.000000</td>\n",
       "      <td>72.000000</td>\n",
       "      <td>128.000000</td>\n",
       "      <td>117.000000</td>\n",
       "      <td>...</td>\n",
       "      <td>0</td>\n",
       "      <td>1</td>\n",
       "      <td>0.000000</td>\n",
       "      <td>0</td>\n",
       "      <td>0.000000</td>\n",
       "      <td>0.000000</td>\n",
       "      <td>1.000000</td>\n",
       "      <td>0.000000</td>\n",
       "      <td>0.000000</td>\n",
       "      <td>0.000000</td>\n",
       "    </tr>\n",
       "    <tr>\n",
       "      <th>max</th>\n",
       "      <td>7.605076e+08</td>\n",
       "      <td>204230.000000</td>\n",
       "      <td>1.741446e+08</td>\n",
       "      <td>2.150000e+08</td>\n",
       "      <td>4390.000000</td>\n",
       "      <td>2.787965e+09</td>\n",
       "      <td>2015.000000</td>\n",
       "      <td>100.000000</td>\n",
       "      <td>4002.000000</td>\n",
       "      <td>325.000000</td>\n",
       "      <td>...</td>\n",
       "      <td>True</td>\n",
       "      <td>True</td>\n",
       "      <td>1.000000</td>\n",
       "      <td>0</td>\n",
       "      <td>1.000000</td>\n",
       "      <td>1.000000</td>\n",
       "      <td>1.000000</td>\n",
       "      <td>1.000000</td>\n",
       "      <td>1.000000</td>\n",
       "      <td>1.000000</td>\n",
       "    </tr>\n",
       "  </tbody>\n",
       "</table>\n",
       "<p>8 rows × 23 columns</p>\n",
       "</div>"
      ],
      "text/plain": [
       "       domestic_gross  opening_per_theater  opening_weekend_take  \\\n",
       "count    3.246000e+03          3166.000000          3.166000e+03   \n",
       "mean     3.646224e+07          7826.065066          8.953362e+06   \n",
       "std      5.661826e+07          8429.076101          1.397680e+07   \n",
       "min      7.200000e+01            72.000000          7.200000e+01   \n",
       "25%      6.809290e+05          3275.250000          5.002875e+04   \n",
       "50%      1.409998e+07          5570.000000          3.546214e+06   \n",
       "75%      5.028636e+07          9470.500000          1.279583e+07   \n",
       "max      7.605076e+08        204230.000000          1.741446e+08   \n",
       "\n",
       "       production_budget  widest_release  worldwide_gross       year_x  \\\n",
       "count       1.451000e+03     3186.000000     2.547000e+03  3298.000000   \n",
       "mean        4.571090e+07     1377.556497     9.140167e+07  2004.987871   \n",
       "std         4.034660e+07     1288.534434     1.487597e+08     8.713648   \n",
       "min         2.200000e+02        1.000000     7.200000e+01  1936.000000   \n",
       "25%         1.675000e+07       56.000000     5.902596e+06  2001.000000   \n",
       "50%         3.400000e+07     1135.000000     3.729544e+07  2007.000000   \n",
       "75%         6.500000e+07     2588.500000     1.170476e+08  2011.000000   \n",
       "max         2.150000e+08     4390.000000     2.787965e+09  2015.000000   \n",
       "\n",
       "         metascore  num_user_ratings  runtime_minutes     ...       \\\n",
       "count  3221.000000       3163.000000      3247.000000     ...        \n",
       "mean     57.694815        120.453051       107.474592     ...        \n",
       "std      18.186875        216.955132        19.431917     ...        \n",
       "min       1.000000          4.000000        48.000000     ...        \n",
       "25%      45.000000         23.000000        94.000000     ...        \n",
       "50%      58.000000         57.000000       104.000000     ...        \n",
       "75%      72.000000        128.000000       117.000000     ...        \n",
       "max     100.000000       4002.000000       325.000000     ...        \n",
       "\n",
       "       top_director_ind  big_studio    drama_ind action_ind    scifi_ind  \\\n",
       "count              3300        3300  3300.000000       3300  3300.000000   \n",
       "mean         0.01939394   0.4130303     0.141818          0     0.051818   \n",
       "std            0.137926   0.4924528     0.348916          0     0.221693   \n",
       "min               False       False     0.000000          0     0.000000   \n",
       "25%                   0           0     0.000000          0     0.000000   \n",
       "50%                   0           0     0.000000          0     0.000000   \n",
       "75%                   0           1     0.000000          0     0.000000   \n",
       "max                True        True     1.000000          0     1.000000   \n",
       "\n",
       "        comedy_ind  thriller_ind  documentary_ind  romance_ind   family_ind  \n",
       "count  3300.000000   3300.000000      3300.000000  3300.000000  3300.000000  \n",
       "mean      0.239091      0.306364         0.026364     0.198182     0.081818  \n",
       "std       0.426593      0.461052         0.160238     0.398690     0.274129  \n",
       "min       0.000000      0.000000         0.000000     0.000000     0.000000  \n",
       "25%       0.000000      0.000000         0.000000     0.000000     0.000000  \n",
       "50%       0.000000      0.000000         0.000000     0.000000     0.000000  \n",
       "75%       0.000000      1.000000         0.000000     0.000000     0.000000  \n",
       "max       1.000000      1.000000         1.000000     1.000000     1.000000  \n",
       "\n",
       "[8 rows x 23 columns]"
      ]
     },
     "execution_count": 75,
     "metadata": {},
     "output_type": "execute_result"
    }
   ],
   "source": [
    "movie_inner.describe()"
   ]
  },
  {
   "cell_type": "code",
   "execution_count": 31,
   "metadata": {
    "collapsed": false,
    "scrolled": true
   },
   "outputs": [
    {
     "data": {
      "text/plain": [
       "Index([           u'alt_title',           u'director_x',\n",
       "             u'domestic_gross',            u'mojo_slug',\n",
       "        u'opening_per_theater', u'opening_weekend_take',\n",
       "          u'production_budget', u'release_date_limited',\n",
       "          u'release_date_wide',              u'title_x',\n",
       "             u'widest_release',      u'worldwide_gross',\n",
       "                     u'year_x',          u'title_strip',\n",
       "                   u'complete',           u'director_y',\n",
       "                      u'genre',      u'metacritic_page',\n",
       "                  u'metascore',   u'num_critic_reviews',\n",
       "           u'num_user_ratings',     u'num_user_reviews',\n",
       "                     u'rating',         u'release_date',\n",
       "            u'runtime_minutes',               u'studio',\n",
       "                    u'title_y',   u'unable to retrieve',\n",
       "                 u'user_score',               u'year_y',\n",
       "               u'recent_movie',      u'num_of_theaters',\n",
       "                u'total_gross',     u'top_director_ind'],\n",
       "      dtype='object')"
      ]
     },
     "execution_count": 31,
     "metadata": {},
     "output_type": "execute_result"
    }
   ],
   "source": [
    "movie_inner.columns"
   ]
  },
  {
   "cell_type": "code",
   "execution_count": 4,
   "metadata": {
    "collapsed": true
   },
   "outputs": [],
   "source": [
    "movie_inner['recent_movie'] = [1 if item >= 2000 else 0 for item in movie_inner['year_x']]\n",
    "movie_inner['num_of_theaters'] = movie_inner['opening_weekend_take']/movie_inner['opening_per_theater']\n",
    "top_directors = movie_inner.director_x.value_counts().index[movie_inner.director_x.value_counts()>=10]\n",
    "movie_inner['top_director_ind'] = movie_inner['director_x'].isin(top_directors)\n",
    "movie_inner['total_gross'] = movie_inner['worldwide_gross'] + movie_inner['domestic_gross']"
   ]
  },
  {
   "cell_type": "code",
   "execution_count": 5,
   "metadata": {
    "collapsed": false
   },
   "outputs": [
    {
     "name": "stdout",
     "output_type": "stream",
     "text": [
      "False    1937\n",
      "True     1363\n",
      "dtype: int64\n"
     ]
    }
   ],
   "source": [
    "big_studios = movie_inner.studio.value_counts().index[:9]\n",
    "movie_inner['big_studio'] = movie_inner['studio'].isin(big_studios)\n",
    "print movie_inner.big_studio.value_counts()"
   ]
  },
  {
   "cell_type": "code",
   "execution_count": 6,
   "metadata": {
    "collapsed": false
   },
   "outputs": [],
   "source": [
    "movie_inner['drama_ind'] = movie_inner['genre'].apply(lambda x: 1 if x.find('Drama') > 0 else 0)\n",
    "movie_inner['action_ind'] = movie_inner['genre'].apply(lambda x: 1 if x.find('Action') > 0 else 0)\n",
    "movie_inner['scifi_ind'] = movie_inner['genre'].apply(lambda x: 1 if x.find('Sci-Fi') > 0 else 0)\n",
    "movie_inner['comedy_ind'] = movie_inner['genre'].apply(lambda x: 1 if x.find('Comedy') > 0 else 0)\n",
    "movie_inner['thriller_ind'] = movie_inner['genre'].apply(lambda x: 1 if x.find('Thriller') > 0 else 1 if x.find('Horror') > 0 else 0)\n",
    "movie_inner['documentary_ind'] = movie_inner['genre'].apply(lambda x: 1 if x.find('Documentary') > 0 else 0)\n",
    "movie_inner['romance_ind'] = movie_inner['genre'].apply(lambda x: 1 if x.find('Romance') > 0 else 0)\n",
    "movie_inner['family_ind'] = movie_inner['genre'].apply(lambda x: 1 if x.find('Family') > 0 else 0)"
   ]
  },
  {
   "cell_type": "code",
   "execution_count": 7,
   "metadata": {
    "collapsed": false
   },
   "outputs": [],
   "source": [
    "movie_inner['R_ind'] = movie_inner['rating'].apply(lambda x: 1 if x==\"R\" else 0)\n",
    "movie_inner['PG13_ind'] = movie_inner['rating'].apply(lambda x: 1 if x in ['PG-13', 'PG--13'] else 0) "
   ]
  },
  {
   "cell_type": "code",
   "execution_count": null,
   "metadata": {
    "collapsed": true
   },
   "outputs": [],
   "source": []
  },
  {
   "cell_type": "code",
   "execution_count": null,
   "metadata": {
    "collapsed": true
   },
   "outputs": [],
   "source": [
    "# production budget, genre, rating, big_studio, runtime_minutes, top_directors, num_of_theaters\n",
    "# drama_ind action_ind scifi_ind comedy_ind thriller_ind documentary_ind romance_ind family_ind\n",
    "## opening_weekend_take, user_score"
   ]
  },
  {
   "cell_type": "markdown",
   "metadata": {},
   "source": [
    "Predicting meta score with some information about the movies\n",
    "\n",
    "- Making 'prestigious' movie could be interesting to movie makers\n",
    "- Budget, Rating (R/PG13), Genre, Big Studio (or not), Runtime, Top Directors, Number of Theaters, Recent movie (> 2000)\n",
    "- Prediction is rather futile, although it is not entirely random\n",
    "\n"
   ]
  },
  {
   "cell_type": "code",
   "execution_count": 15,
   "metadata": {
    "collapsed": false
   },
   "outputs": [],
   "source": [
    "# build the model\n",
    "import statsmodels as sm\n",
    "import statsmodels.api as sma\n",
    "import statsmodels.formula.api as smf\n",
    "import numpy as np\n",
    "\n",
    "from sklearn.cross_validation import train_test_split\n",
    "\n",
    "entire_vars = ['metascore', 'production_budget', 'R_ind','PG13_ind', 'big_studio', 'runtime_minutes', 'top_director_ind',\\\n",
    "                 'num_of_theaters', 'drama_ind', 'action_ind', 'scifi_ind', 'comedy_ind', 'thriller_ind', 'documentary_ind', \n",
    "                 'romance_ind', 'family_ind', 'widest_release', 'recent_movie']\n",
    "varlist1 = ['production_budget', 'R_ind','PG13_ind', 'big_studio', 'runtime_minutes', 'top_director_ind',\\\n",
    "                 'num_of_theaters', 'drama_ind', 'action_ind', 'scifi_ind', 'comedy_ind', 'thriller_ind', 'documentary_ind', \n",
    "                 'romance_ind', 'family_ind', 'widest_release', 'recent_movie']\n",
    "df = movie_inner[entire_vars].dropna()\n",
    "\n",
    "model1 = smf.ols('metascore ~ production_budget + R_ind + PG13_ind + big_studio + runtime_minutes + top_director_ind + \\\n",
    "                    num_of_theaters + drama_ind + action_ind + scifi_ind + comedy_ind + thriller_ind + documentary_ind + \\\n",
    "                    romance_ind + family_ind + widest_release + recent_movie', data=df).fit()\n",
    "model2 = smf.ols('metascore ~ production_budget + R_ind + PG13_ind + big_studio + runtime_minutes + top_director_ind + \\\n",
    "                    num_of_theaters + drama_ind + action_ind + scifi_ind + comedy_ind + thriller_ind +  \\\n",
    "                    romance_ind + family_ind + widest_release', data=df).fit()\n",
    "model3 = smf.ols('metascore ~ production_budget + PG13_ind + big_studio + runtime_minutes + top_director_ind + \\\n",
    "                    num_of_theaters + drama_ind + action_ind + scifi_ind + comedy_ind +  \\\n",
    "                    romance_ind + family_ind + widest_release', data=df).fit()\n",
    "model4 = smf.ols('metascore ~ production_budget + PG13_ind + big_studio + runtime_minutes + top_director_ind + \\\n",
    "                    num_of_theaters + drama_ind + action_ind + comedy_ind + family_ind + widest_release', data=df).fit()\n",
    "model5 = smf.ols('metascore ~ production_budget + PG13_ind + big_studio + runtime_minutes + top_director_ind + \\\n",
    "                    num_of_theaters + drama_ind + action_ind + comedy_ind + family_ind', data=df).fit()\n",
    "model6 = smf.ols('metascore ~  PG13_ind + big_studio + runtime_minutes + top_director_ind + \\\n",
    "                    num_of_theaters + drama_ind + action_ind + comedy_ind + family_ind', data=df).fit()"
   ]
  },
  {
   "cell_type": "code",
   "execution_count": 16,
   "metadata": {
    "collapsed": false
   },
   "outputs": [
    {
     "data": {
      "text/html": [
       "<table class=\"simpletable\">\n",
       "<caption>OLS Regression Results</caption>\n",
       "<tr>\n",
       "  <th>Dep. Variable:</th>        <td>metascore</td>    <th>  R-squared:         </th> <td>   0.264</td> \n",
       "</tr>\n",
       "<tr>\n",
       "  <th>Model:</th>                   <td>OLS</td>       <th>  Adj. R-squared:    </th> <td>   0.255</td> \n",
       "</tr>\n",
       "<tr>\n",
       "  <th>Method:</th>             <td>Least Squares</td>  <th>  F-statistic:       </th> <td>   31.36</td> \n",
       "</tr>\n",
       "<tr>\n",
       "  <th>Date:</th>             <td>Fri, 01 Jul 2016</td> <th>  Prob (F-statistic):</th> <td>1.13e-81</td> \n",
       "</tr>\n",
       "<tr>\n",
       "  <th>Time:</th>                 <td>09:37:54</td>     <th>  Log-Likelihood:    </th> <td> -5891.2</td> \n",
       "</tr>\n",
       "<tr>\n",
       "  <th>No. Observations:</th>      <td>  1419</td>      <th>  AIC:               </th> <td>1.182e+04</td>\n",
       "</tr>\n",
       "<tr>\n",
       "  <th>Df Residuals:</th>          <td>  1402</td>      <th>  BIC:               </th> <td>1.191e+04</td>\n",
       "</tr>\n",
       "<tr>\n",
       "  <th>Df Model:</th>              <td>    16</td>      <th>                     </th>     <td> </td>    \n",
       "</tr>\n",
       "<tr>\n",
       "  <th>Covariance Type:</th>      <td>nonrobust</td>    <th>                     </th>     <td> </td>    \n",
       "</tr>\n",
       "</table>\n",
       "<table class=\"simpletable\">\n",
       "<tr>\n",
       "              <td></td>                <th>coef</th>     <th>std err</th>      <th>t</th>      <th>P>|t|</th> <th>[95.0% Conf. Int.]</th> \n",
       "</tr>\n",
       "<tr>\n",
       "  <th>Intercept</th>                <td>   37.0633</td> <td>    3.224</td> <td>   11.497</td> <td> 0.000</td> <td>   30.740    43.387</td>\n",
       "</tr>\n",
       "<tr>\n",
       "  <th>big_studio[T.True]</th>       <td>    1.1281</td> <td>    0.878</td> <td>    1.284</td> <td> 0.199</td> <td>   -0.595     2.851</td>\n",
       "</tr>\n",
       "<tr>\n",
       "  <th>top_director_ind[T.True]</th> <td>    4.4894</td> <td>    1.827</td> <td>    2.458</td> <td> 0.014</td> <td>    0.906     8.073</td>\n",
       "</tr>\n",
       "<tr>\n",
       "  <th>production_budget</th>        <td> 2.508e-08</td> <td> 1.46e-08</td> <td>    1.714</td> <td> 0.087</td> <td>-3.62e-09  5.38e-08</td>\n",
       "</tr>\n",
       "<tr>\n",
       "  <th>R_ind</th>                    <td>    0.8210</td> <td>    1.298</td> <td>    0.632</td> <td> 0.527</td> <td>   -1.725     3.367</td>\n",
       "</tr>\n",
       "<tr>\n",
       "  <th>PG13_ind</th>                 <td>   -2.5746</td> <td>    1.315</td> <td>   -1.958</td> <td> 0.050</td> <td>   -5.154     0.005</td>\n",
       "</tr>\n",
       "<tr>\n",
       "  <th>runtime_minutes</th>          <td>    0.2144</td> <td>    0.024</td> <td>    8.847</td> <td> 0.000</td> <td>    0.167     0.262</td>\n",
       "</tr>\n",
       "<tr>\n",
       "  <th>num_of_theaters</th>          <td>   -0.0224</td> <td>    0.002</td> <td>  -12.039</td> <td> 0.000</td> <td>   -0.026    -0.019</td>\n",
       "</tr>\n",
       "<tr>\n",
       "  <th>drama_ind</th>                <td>    2.7793</td> <td>    1.159</td> <td>    2.398</td> <td> 0.017</td> <td>    0.506     5.053</td>\n",
       "</tr>\n",
       "<tr>\n",
       "  <th>action_ind</th>               <td>-2.108e-14</td> <td> 8.59e-15</td> <td>   -2.453</td> <td> 0.014</td> <td>-3.79e-14 -4.22e-15</td>\n",
       "</tr>\n",
       "<tr>\n",
       "  <th>scifi_ind</th>                <td>    1.7723</td> <td>    1.564</td> <td>    1.133</td> <td> 0.257</td> <td>   -1.295     4.840</td>\n",
       "</tr>\n",
       "<tr>\n",
       "  <th>comedy_ind</th>               <td>    2.1898</td> <td>    1.013</td> <td>    2.162</td> <td> 0.031</td> <td>    0.203     4.177</td>\n",
       "</tr>\n",
       "<tr>\n",
       "  <th>thriller_ind</th>             <td>   -0.6751</td> <td>    0.985</td> <td>   -0.685</td> <td> 0.493</td> <td>   -2.608     1.258</td>\n",
       "</tr>\n",
       "<tr>\n",
       "  <th>documentary_ind</th>          <td>    1.1388</td> <td>    5.536</td> <td>    0.206</td> <td> 0.837</td> <td>   -9.721    11.999</td>\n",
       "</tr>\n",
       "<tr>\n",
       "  <th>romance_ind</th>              <td>   -1.5124</td> <td>    1.070</td> <td>   -1.414</td> <td> 0.158</td> <td>   -3.611     0.586</td>\n",
       "</tr>\n",
       "<tr>\n",
       "  <th>family_ind</th>               <td>    5.9296</td> <td>    1.742</td> <td>    3.405</td> <td> 0.001</td> <td>    2.513     9.346</td>\n",
       "</tr>\n",
       "<tr>\n",
       "  <th>widest_release</th>           <td>    0.0177</td> <td>    0.002</td> <td>    9.188</td> <td> 0.000</td> <td>    0.014     0.021</td>\n",
       "</tr>\n",
       "<tr>\n",
       "  <th>recent_movie</th>             <td>   -0.3230</td> <td>    1.120</td> <td>   -0.288</td> <td> 0.773</td> <td>   -2.520     1.874</td>\n",
       "</tr>\n",
       "</table>\n",
       "<table class=\"simpletable\">\n",
       "<tr>\n",
       "  <th>Omnibus:</th>       <td> 8.065</td> <th>  Durbin-Watson:     </th> <td>   1.979</td>\n",
       "</tr>\n",
       "<tr>\n",
       "  <th>Prob(Omnibus):</th> <td> 0.018</td> <th>  Jarque-Bera (JB):  </th> <td>   8.005</td>\n",
       "</tr>\n",
       "<tr>\n",
       "  <th>Skew:</th>          <td>-0.180</td> <th>  Prob(JB):          </th> <td>  0.0183</td>\n",
       "</tr>\n",
       "<tr>\n",
       "  <th>Kurtosis:</th>      <td> 3.078</td> <th>  Cond. No.          </th> <td>1.40e+24</td>\n",
       "</tr>\n",
       "</table>"
      ],
      "text/plain": [
       "<class 'statsmodels.iolib.summary.Summary'>\n",
       "\"\"\"\n",
       "                            OLS Regression Results                            \n",
       "==============================================================================\n",
       "Dep. Variable:              metascore   R-squared:                       0.264\n",
       "Model:                            OLS   Adj. R-squared:                  0.255\n",
       "Method:                 Least Squares   F-statistic:                     31.36\n",
       "Date:                Fri, 01 Jul 2016   Prob (F-statistic):           1.13e-81\n",
       "Time:                        09:37:54   Log-Likelihood:                -5891.2\n",
       "No. Observations:                1419   AIC:                         1.182e+04\n",
       "Df Residuals:                    1402   BIC:                         1.191e+04\n",
       "Df Model:                          16                                         \n",
       "Covariance Type:            nonrobust                                         \n",
       "============================================================================================\n",
       "                               coef    std err          t      P>|t|      [95.0% Conf. Int.]\n",
       "--------------------------------------------------------------------------------------------\n",
       "Intercept                   37.0633      3.224     11.497      0.000        30.740    43.387\n",
       "big_studio[T.True]           1.1281      0.878      1.284      0.199        -0.595     2.851\n",
       "top_director_ind[T.True]     4.4894      1.827      2.458      0.014         0.906     8.073\n",
       "production_budget         2.508e-08   1.46e-08      1.714      0.087     -3.62e-09  5.38e-08\n",
       "R_ind                        0.8210      1.298      0.632      0.527        -1.725     3.367\n",
       "PG13_ind                    -2.5746      1.315     -1.958      0.050        -5.154     0.005\n",
       "runtime_minutes              0.2144      0.024      8.847      0.000         0.167     0.262\n",
       "num_of_theaters             -0.0224      0.002    -12.039      0.000        -0.026    -0.019\n",
       "drama_ind                    2.7793      1.159      2.398      0.017         0.506     5.053\n",
       "action_ind               -2.108e-14   8.59e-15     -2.453      0.014     -3.79e-14 -4.22e-15\n",
       "scifi_ind                    1.7723      1.564      1.133      0.257        -1.295     4.840\n",
       "comedy_ind                   2.1898      1.013      2.162      0.031         0.203     4.177\n",
       "thriller_ind                -0.6751      0.985     -0.685      0.493        -2.608     1.258\n",
       "documentary_ind              1.1388      5.536      0.206      0.837        -9.721    11.999\n",
       "romance_ind                 -1.5124      1.070     -1.414      0.158        -3.611     0.586\n",
       "family_ind                   5.9296      1.742      3.405      0.001         2.513     9.346\n",
       "widest_release               0.0177      0.002      9.188      0.000         0.014     0.021\n",
       "recent_movie                -0.3230      1.120     -0.288      0.773        -2.520     1.874\n",
       "==============================================================================\n",
       "Omnibus:                        8.065   Durbin-Watson:                   1.979\n",
       "Prob(Omnibus):                  0.018   Jarque-Bera (JB):                8.005\n",
       "Skew:                          -0.180   Prob(JB):                       0.0183\n",
       "Kurtosis:                       3.078   Cond. No.                     1.40e+24\n",
       "==============================================================================\n",
       "\n",
       "Warnings:\n",
       "[1] Standard Errors assume that the covariance matrix of the errors is correctly specified.\n",
       "[2] The smallest eigenvalue is 2.75e-30. This might indicate that there are\n",
       "strong multicollinearity problems or that the design matrix is singular.\n",
       "\"\"\""
      ]
     },
     "execution_count": 16,
     "metadata": {},
     "output_type": "execute_result"
    }
   ],
   "source": [
    "model1.summary()"
   ]
  },
  {
   "cell_type": "code",
   "execution_count": 125,
   "metadata": {
    "collapsed": false
   },
   "outputs": [
    {
     "name": "stdout",
     "output_type": "stream",
     "text": [
      "15.4683882707\n",
      "15.4411955892\n",
      "15.4213929543\n",
      "15.4156577001\n",
      "15.8416004776\n",
      "15.8761518116\n"
     ]
    }
   ],
   "source": [
    "Y = df['metascore']\n",
    "varlist1 = ['production_budget', 'R_ind','PG13_ind', 'big_studio', 'runtime_minutes', 'top_director_ind',\\\n",
    "                 'num_of_theaters', 'drama_ind', 'action_ind', 'scifi_ind', 'comedy_ind', 'thriller_ind', 'documentary_ind', \n",
    "                 'romance_ind', 'family_ind', 'widest_release', 'recent_movie']\n",
    "varlist2 = ['production_budget', 'R_ind','PG13_ind', 'big_studio', 'runtime_minutes', 'top_director_ind',\\\n",
    "                 'num_of_theaters', 'drama_ind', 'action_ind', 'scifi_ind', 'comedy_ind', 'thriller_ind',  \n",
    "                 'romance_ind', 'family_ind', 'widest_release']\n",
    "varlist3 = ['production_budget', 'PG13_ind', 'big_studio', 'runtime_minutes', 'top_director_ind',\\\n",
    "                 'num_of_theaters', 'drama_ind', 'action_ind', 'scifi_ind', 'comedy_ind',  \n",
    "                 'romance_ind', 'family_ind', 'widest_release']\n",
    "varlist4 = ['production_budget', 'PG13_ind', 'big_studio', 'runtime_minutes', 'top_director_ind',\\\n",
    "                 'num_of_theaters', 'drama_ind', 'action_ind', 'comedy_ind', 'family_ind', 'widest_release']\n",
    "varlist5 = ['production_budget', 'PG13_ind', 'big_studio', 'runtime_minutes', 'top_director_ind',\\\n",
    "                 'num_of_theaters', 'drama_ind', 'action_ind', 'comedy_ind', 'family_ind']\n",
    "varlist6 = ['PG13_ind', 'big_studio', 'runtime_minutes', 'top_director_ind',\\\n",
    "                 'num_of_theaters', 'drama_ind', 'action_ind', 'comedy_ind', 'family_ind']\n",
    "\n",
    "X1 = sma.add_constant(df[varlist1])\n",
    "X2 = sma.add_constant(df[varlist2])\n",
    "X3 = sma.add_constant(df[varlist3])\n",
    "X4 = sma.add_constant(df[varlist4])\n",
    "X5 = sma.add_constant(df[varlist5])\n",
    "X6 = sma.add_constant(df[varlist6])\n",
    "\n",
    "from sklearn.metrics import mean_squared_error\n",
    "\n",
    "# Root mean squared error is standard deviation of\n",
    "# the differences between predicted and actual values\n",
    "def RMSE(model, X_, Y_):\n",
    "    Y_pred = model.predict(X_)\n",
    "    Y_true = Y_\n",
    "    MSE = mean_squared_error(Y_pred, Y_true)\n",
    "    return np.sqrt(MSE)\n",
    "\n",
    "from sklearn.linear_model import LinearRegression\n",
    "from sklearn.cross_validation import cross_val_score\n",
    "\n",
    "model = LinearRegression()\n",
    "RMSE_folds1 = cross_val_score(model,X1,Y,\n",
    "                             cv=5,\n",
    "                             scoring=RMSE)\n",
    "RMSE_folds2 = cross_val_score(model,X2,Y,\n",
    "                             cv=5,\n",
    "                             scoring=RMSE)\n",
    "RMSE_folds3 = cross_val_score(model,X3,Y,\n",
    "                             cv=5,\n",
    "                             scoring=RMSE)\n",
    "\n",
    "RMSE_folds4 = cross_val_score(model,X4,Y,\n",
    "                             cv=5,\n",
    "                             scoring=RMSE)\n",
    "\n",
    "RMSE_folds5 = cross_val_score(model,X5,Y,\n",
    "                             cv=5,\n",
    "                             scoring=RMSE)\n",
    "\n",
    "RMSE_folds6 = cross_val_score(model,X6,Y,\n",
    "                             cv=5,\n",
    "                             scoring=RMSE)\n",
    "\n",
    "def evaluate(rmse):\n",
    "    sum_error = 0\n",
    "    for i,error in enumerate(rmse):\n",
    "        sum_error  += error\n",
    "    print sum_error/5\n",
    "\n",
    "evaluate(RMSE_folds1)\n",
    "evaluate(RMSE_folds2)\n",
    "evaluate(RMSE_folds3)\n",
    "evaluate(RMSE_folds4)\n",
    "evaluate(RMSE_folds5)\n",
    "evaluate(RMSE_folds6)"
   ]
  },
  {
   "cell_type": "code",
   "execution_count": 56,
   "metadata": {
    "collapsed": false
   },
   "outputs": [
    {
     "data": {
      "text/plain": [
       "<matplotlib.text.Text at 0x22d55940>"
      ]
     },
     "execution_count": 56,
     "metadata": {},
     "output_type": "execute_result"
    },
    {
     "data": {
      "image/png": "[encoded data removed]",
      "text/plain": [
       "<matplotlib.figure.Figure at 0x22df45c0>"
      ]
     },
     "metadata": {},
     "output_type": "display_data"
    }
   ],
   "source": [
    "%matplotlib inline\n",
    "import matplotlib.pyplot as plt\n",
    "import seaborn as sns\n",
    "director_count = movie_inner.director_x.value_counts()\n",
    "director_class = ['top' if item >= 10 else '6-9' if item > 5 else '1-5' for item in director_count] \n",
    "top_directors = director_count.index[[True if x == 'top' else False for x in director_class]]\n",
    "mid_directors = director_count.index[[True if x == '6-9' else False for x in director_class]]\n",
    "bottom_directors = director_count.index[[True if x == '1-5' else False for x in director_class]]\n",
    "\n",
    "movie_inner['director_cat'] = ['top' if item in top_directors else '6-9' if item in mid_directors else '1-5' \\\n",
    "                               for item in movie_inner['director_x']]\n",
    "\n",
    "x = movie_inner[['director_cat','metascore']].dropna()\n",
    "x.boxplot(by='director_cat')\n",
    "plt.xlabel('Number of movies directed')"
   ]
  },
  {
   "cell_type": "code",
   "execution_count": 67,
   "metadata": {
    "collapsed": false
   },
   "outputs": [
    {
     "data": {
      "text/plain": [
       "<matplotlib.text.Text at 0x26bdbda0>"
      ]
     },
     "execution_count": 67,
     "metadata": {},
     "output_type": "execute_result"
    },
    {
     "data": {
      "image/png": "[encoded data removed]",
      "text/plain": [
       "<matplotlib.figure.Figure at 0x1faf0eb8>"
      ]
     },
     "metadata": {},
     "output_type": "display_data"
    }
   ],
   "source": [
    "top = movie_inner[movie_inner.director_cat==\"top\"]\n",
    "top_x = top[['director_x','metascore']].dropna()\n",
    "#top_xplt.subplots(1,2,2)\n",
    "fig, axes = plt.subplots(nrows=1, ncols=2, sharey=True)\n",
    "\n",
    "fig.set_figheight(9)\n",
    "fig.set_figwidth(12)\n",
    "\n",
    "seaborn.stripplot(x=\"metascore\", y=\"director_x\", data=top_x, ax=axes[0])\n",
    "axes[0].set_ylabel(\"Directors\")\n",
    "axes[0].set_title(\"Metascore versus user score of directors with 10 or more movies\")\n",
    "\n",
    "\n",
    "user_x = top[['director_x','user_score']].dropna()\n",
    "user_x = user_x[user_x.user_score != 'tbd']\n",
    "user_x['score'] = [float(x) for x in user_x.user_score]\n",
    "\n",
    "seaborn.stripplot(x=\"score\", y=\"director_x\", data=user_x, ax=axes[1])\n",
    "axes[1].set_ylabel(\"\")\n",
    "axes[1].set_xlabel(\"user score\")\n",
    "\n",
    "#plt.title(\"Metascore of directors with 10 or more movies\")"
   ]
  },
  {
   "cell_type": "code",
   "execution_count": 63,
   "metadata": {
    "collapsed": false
   },
   "outputs": [
    {
     "data": {
      "text/plain": [
       "<matplotlib.text.Text at 0x246c0f28>"
      ]
     },
     "execution_count": 63,
     "metadata": {},
     "output_type": "execute_result"
    },
    {
     "data": {
      "image/png": "[encoded data removed]",
      "text/plain": [
       "<matplotlib.figure.Figure at 0x2534ada0>"
      ]
     },
     "metadata": {},
     "output_type": "display_data"
    }
   ],
   "source": [
    "movie_inner['comedy_genre'] = movie_inner['genre'].apply(lambda x: 'drama' if x.find('Drama') > 0 else \"non_drama\")\n",
    "movie_inner['horror_genre'] = movie_inner['genre'].apply(lambda x: 'horror_thriller' if x.find('Horror') > 0 else 'horror_thriller' \\\n",
    "                                        if x.find('Thriller') > 0 else \"non_horror_thriller\")\n",
    "# movie_inner['action_genre'] = movie_inner['genre'].apply(lambda x: 'action' if x.find('Action') > 0 else 'non_action')\n",
    "movie_inner['scifi_genre'] = movie_inner['genre'].apply(lambda x: 'scifi' if x.find('Sci-Fi') > 0 else 'non_scifi')\n",
    "movie_inner['documentary_genre'] = movie_inner['genre'].apply(lambda x: 'documentary' if x.find('Documentary') > 0 else 'non_documentary')\n",
    "movie_inner['romance_genre'] = movie_inner['genre'].apply(lambda x: 'romance' if x.find('Romance') > 0 else 'non_romance')\n",
    "movie_inner['family_genre'] = movie_inner['genre'].apply(lambda x: 'family' if x.find('Family') > 0 else 'non-family')\n",
    "\n",
    "\n",
    "x_comedy = movie_inner[['comedy_genre','metascore']].dropna()\n",
    "x_horror = movie_inner[['horror_genre','metascore']].dropna()\n",
    "# x_action= movie_inner[['action_genre','metascore']].dropna()\n",
    "x_scifi = movie_inner[['scifi_genre','metascore']].dropna()\n",
    "x_docu = movie_inner[['documentary_genre','metascore']].dropna()\n",
    "x_romance = movie_inner[['romance_genre','metascore']].dropna()\n",
    "x_family = movie_inner[['family_genre','metascore']].dropna()\n",
    "\n",
    "fig, axes = plt.subplots(nrows=2, ncols=3, sharey=True)\n",
    "\n",
    "fig.set_figheight(15)\n",
    "fig.set_figwidth(15)\n",
    "\n",
    "x_comedy.boxplot(by='comedy_genre', ax=axes[0,0])\n",
    "axes[0,0].set_xlabel(\"\")\n",
    "x_horror.boxplot(by='horror_genre', ax=axes[0,1])\n",
    "axes[0,1].set_xlabel(\"\")\n",
    "# x_action.boxplot(by='action_genre', )\n",
    "x_scifi.boxplot(by='scifi_genre', ax=axes[0,2])\n",
    "axes[0,2].set_xlabel(\"\")\n",
    "x_docu.boxplot(by='documentary_genre', ax=axes[1,0])\n",
    "axes[1,0].set_xlabel(\"\")\n",
    "x_romance.boxplot(by='romance_genre', ax=axes[1,1])\n",
    "axes[1,1].set_xlabel(\"\")\n",
    "x_family.boxplot(by='family_genre', ax=axes[1,2])\n",
    "axes[1,2].set_xlabel(\"\")\n"
   ]
  },
  {
   "cell_type": "code",
   "execution_count": 53,
   "metadata": {
    "collapsed": false
   },
   "outputs": [
    {
     "name": "stdout",
     "output_type": "stream",
     "text": [
      "[u'Gore Verbinski', u'Richard Kelly', u'Ari Sandel', u'Mike McCoyScott Waugh', u'Kirk De MiccoChris Sanders', u'Colin StrauseGreg Strause', u'William H. Macy', u'Rupert Sanders']\n"
     ]
    },
    {
     "data": {
      "text/plain": [
       "<matplotlib.text.Text at 0x238012e8>"
      ]
     },
     "execution_count": 53,
     "metadata": {},
     "output_type": "execute_result"
    },
    {
     "data": {
      "image/png": "[encoded data removed]",
      "text/plain": [
       "<matplotlib.figure.Figure at 0x2325ceb8>"
      ]
     },
     "metadata": {},
     "output_type": "display_data"
    }
   ],
   "source": [
    "director_gross = movie_inner.groupby('director_x').total_gross.sum()\n",
    "top_grossers = [x for x in director_count.index[[True if x >= 3000000000 else False for x in director_gross]]]\n",
    "#mid_directors = director_count.index[[True if x == '6-9' else False for x in director_class]]\n",
    "#bottom_directors = director_count.index[[True if x == '1-5' else False for x in director_class]]\n",
    "print top_grossers\n",
    "toptop = movie_inner[movie_inner.director_x.isin(top_grossers)]\n",
    "top_xx = top[['director_x','metascore']].dropna()\n",
    "#top_xplt.subplots(1,2,2)\n",
    "fig, axes = plt.subplots(nrows=1, ncols=2, sharey=True)\n",
    "\n",
    "seaborn.stripplot(x=\"metascore\", y=\"director_x\", data=top_xx, ax=axes[0])\n",
    "axes[0].set_ylabel(\"Directors\")\n",
    "axes[0].set_title(\"Metascore versus user score of top grossing directors\")\n",
    "\n",
    "user_xx = toptop[['director_x','user_score']].dropna()\n",
    "user_xx = user_xx[user_xx.user_score != 'tbd']\n",
    "user_xx.\n",
    "user_xx['score'] = [float(x) for x in user_xx.user_score]\n",
    "\n",
    "seaborn.stripplot(x=\"score\", y=\"director_x\", data=user_xx, ax=axes[1])\n",
    "axes[1].set_ylabel(\"\")\n",
    "axes[1].set_xlabel(\"user score\")\n",
    "\n",
    "#plt.title(\"Metascore of directors with 10 or more movies\")\n"
   ]
  },
  {
   "cell_type": "code",
   "execution_count": 126,
   "metadata": {
    "collapsed": false
   },
   "outputs": [
    {
     "ename": "NameError",
     "evalue": "name 'model6' is not defined",
     "output_type": "error",
     "traceback": [
      "\u001b[1;31m---------------------------------------------------------------------------\u001b[0m",
      "\u001b[1;31mNameError\u001b[0m                                 Traceback (most recent call last)",
      "\u001b[1;32m<ipython-input-126-86811d182c8c>\u001b[0m in \u001b[0;36m<module>\u001b[1;34m()\u001b[0m\n\u001b[0;32m      4\u001b[0m \u001b[1;33m\u001b[0m\u001b[0m\n\u001b[0;32m      5\u001b[0m \u001b[0mdf\u001b[0m\u001b[1;33m[\u001b[0m\u001b[1;34m'pred4'\u001b[0m\u001b[1;33m]\u001b[0m \u001b[1;33m=\u001b[0m \u001b[0mmodel4\u001b[0m\u001b[1;33m.\u001b[0m\u001b[0mpredict\u001b[0m\u001b[1;33m(\u001b[0m\u001b[0mdf\u001b[0m\u001b[1;33m)\u001b[0m\u001b[1;33m\u001b[0m\u001b[0m\n\u001b[1;32m----> 6\u001b[1;33m \u001b[0mdf\u001b[0m\u001b[1;33m[\u001b[0m\u001b[1;34m'pred6'\u001b[0m\u001b[1;33m]\u001b[0m \u001b[1;33m=\u001b[0m \u001b[0mmodel6\u001b[0m\u001b[1;33m.\u001b[0m\u001b[0mpredict\u001b[0m\u001b[1;33m(\u001b[0m\u001b[0mdf\u001b[0m\u001b[1;33m)\u001b[0m\u001b[1;33m\u001b[0m\u001b[0m\n\u001b[0m\u001b[0;32m      7\u001b[0m \u001b[1;33m\u001b[0m\u001b[0m\n\u001b[0;32m      8\u001b[0m \u001b[1;32mwith\u001b[0m \u001b[0msns\u001b[0m\u001b[1;33m.\u001b[0m\u001b[0maxes_style\u001b[0m\u001b[1;33m(\u001b[0m\u001b[1;34m'white'\u001b[0m\u001b[1;33m)\u001b[0m\u001b[1;33m:\u001b[0m\u001b[1;33m\u001b[0m\u001b[0m\n",
      "\u001b[1;31mNameError\u001b[0m: name 'model6' is not defined"
     ]
    }
   ],
   "source": [
    "%matplotlib inline\n",
    "import matplotlib.pyplot as plt\n",
    "import seaborn as sns\n",
    "\n",
    "df['pred4'] = model4.predict(df)\n",
    "df['pred6'] = model6.predict(df)\n",
    "\n",
    "with sns.axes_style('white'):\n",
    "    plot = df.plot(kind='scatter',\n",
    "                      x='metascore',\n",
    "                      y='pred6',\n",
    "                      alpha=0.2,\n",
    "                      figsize=(10,6))\n",
    "    plot.set_title(\"\")\n",
    "    plot.set_ylim(0,120)\n",
    "    plot.set_xlabel(\"actual metascore\")\n",
    "    plot.set_ylabel(\"predicted\")\n"
   ]
  },
  {
   "cell_type": "code",
   "execution_count": null,
   "metadata": {
    "collapsed": true
   },
   "outputs": [],
   "source": [
    "import statsmodels.api as sm\n",
    "\n",
    "df = merged_df[['international_gross']]\n",
    "Y = df.domestic_gross\n",
    "X = sm.add_constant(df.opening_weekend_take)\n",
    "\n",
    "linmodel = sm.OLS(Y,X).fit()\n",
    "linmodel.summary()"
   ]
  },
  {
   "cell_type": "code",
   "execution_count": 133,
   "metadata": {
    "collapsed": false
   },
   "outputs": [
    {
     "data": {
      "text/plain": [
       "(50, 200)"
      ]
     },
     "execution_count": 133,
     "metadata": {},
     "output_type": "execute_result"
    },
    {
     "data": {
      "image/png": "[encoded data removed]",
      "text/plain": [
       "<matplotlib.figure.Figure at 0x256b1630>"
      ]
     },
     "metadata": {},
     "output_type": "display_data"
    }
   ],
   "source": [
    "plt.scatter(df.runtime_minutes, df.metascore, color='gray')\n",
    "plt.xlim(50,200)"
   ]
  }
 ],
 "metadata": {
  "kernelspec": {
   "display_name": "Python 2",
   "language": "python",
   "name": "python2"
  },
  "language_info": {
   "codemirror_mode": {
    "name": "ipython",
    "version": 2
   },
   "file_extension": ".py",
   "mimetype": "text/x-python",
   "name": "python",
   "nbconvert_exporter": "python",
   "pygments_lexer": "ipython2",
   "version": "2.7.10"
  }
 },
 "nbformat": 4,
 "nbformat_minor": 0
}
