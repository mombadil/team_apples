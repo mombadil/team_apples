{
 "cells": [
  {
   "cell_type": "code",
   "execution_count": 70,
   "metadata": {
    "collapsed": true
   },
   "outputs": [],
   "source": [
    "#import modules\n",
    "import loaddata\n",
    "import pandas as pd\n",
    "%matplotlib inline\n",
    "import sys\n",
    "import os\n",
    "import matplotlib.pyplot as plt\n",
    "import seaborn\n",
    "import numpy as np\n",
    "import statsmodels.formula.api as smf\n",
    "import patsy\n",
    "from seaborn import plt\n",
    "from sklearn.linear_model import LinearRegression\n",
    "from sklearn.cross_validation import train_test_split\n",
    "from sklearn.linear_model import RidgeCV\n",
    "from IPython.core.pylabtools import figsize"
   ]
  },
  {
   "cell_type": "code",
   "execution_count": 71,
   "metadata": {
    "collapsed": false
   },
   "outputs": [
    {
     "name": "stdout",
     "output_type": "stream",
     "text": [
      "Parsed 3728 movies from 3728 files\n",
      "Parsed 4765 metacritic files from 4767 files\n"
     ]
    }
   ],
   "source": [
    "# load the data\n",
    "movie_dicts = loaddata.load_mojo_data()\n",
    "movie_df = pd.DataFrame(movie_dicts)\n",
    "\n",
    "meta_dicts = loaddata.load_metacritic_data()\n",
    "meta_df = pd.DataFrame(meta_dicts)\n",
    "\n",
    "# merge the data \n",
    "movie_df['title_strip']=movie_df['title'].str.strip()\n",
    "meta_df['title_strip']=meta_df['title'].str.strip()\n",
    "\n",
    "movie_inner=movie_df.merge(meta_df,on='title_strip', how='inner')\n"
   ]
  },
  {
   "cell_type": "code",
   "execution_count": 72,
   "metadata": {
    "collapsed": false
   },
   "outputs": [],
   "source": [
    "# create top 3 director indicators (by worldwide gross)\n",
    "movie_inner['top_dir']=movie_inner['director_y'].apply(lambda x: 1 if x.find('Lee Unkrich')>=0 or x.find('James Cameron')>=0 \n",
    "                                                       or x.find('Shane Black') or x.find('George Lucas') >= 0 else 0)\n"
   ]
  },
  {
   "cell_type": "code",
   "execution_count": 73,
   "metadata": {
    "collapsed": true
   },
   "outputs": [],
   "source": [
    "# create season column based on release date (summer, holiday, other)\n",
    "movie_inner['summer']=movie_inner['release_date'].apply(lambda x: 1 if ('05' <= x[5:7] <= '08') \n",
    "                                                        else 0)\n",
    "\n",
    "movie_inner['holiday']=movie_inner['release_date'].apply(lambda x: 1 if ('11' <= x[5:7] <= '12')\n",
    "                                                        else 0)\n",
    "\n",
    "movie_inner['other_seas']=movie_inner['release_date'].apply(lambda x: 1 if ('01' <= x[5:7] <= '04') or ('09' <= x[5:7] <= '10') else 0)"
   ]
  },
  {
   "cell_type": "code",
   "execution_count": 74,
   "metadata": {
    "collapsed": true
   },
   "outputs": [],
   "source": [
    "# create genre columns\n",
    "movie_inner['act_adv_thril']=movie_inner['genre'].apply(lambda x: 1 if (x.find('Action')>=0 or x.find('Adventure')>=0 or x.find('Thriller')>=0) else 0)\n",
    "movie_inner['other_gen']=movie_inner['genre'].apply(lambda x: 1 if (x.find('Fantasy')<0 and x.find('Horror')<0 and x.find('Sci-Fi')<0\n",
    "                                                                   and x.find('Romance')<0 and x.find('Drama')<0 and x.find('Action')<0\n",
    "                                                                   and x.find('Adventure')<0 and x.find('Thriller')<0 and x.find('Comedy')<0) else 0)"
   ]
  },
  {
   "cell_type": "code",
   "execution_count": 113,
   "metadata": {
    "collapsed": false
   },
   "outputs": [],
   "source": [
    "# create rating indicator col\n",
    "movie_inner['pg13']=movie_inner['rating'].apply(lambda x: 1 if (x.find('PG-13')>=0 or x.find('PG--13')>=0) else 0)\n",
    "movie_inner['r']=movie_inner['rating'].apply(lambda x: 1 if (x.find('R')>=0) else 0)\n",
    "movie_inner['g']=movie_inner['rating'].apply(lambda x: 1 if (x.find('G')==0) else 0)"
   ]
  },
  {
   "cell_type": "code",
   "execution_count": 102,
   "metadata": {
    "collapsed": true
   },
   "outputs": [],
   "source": [
    "# create ln production budget\n",
    "movie_inner['ln_prod_budget']=np.log(movie_inner['production_budget'])"
   ]
  },
  {
   "cell_type": "code",
   "execution_count": 118,
   "metadata": {
    "collapsed": true
   },
   "outputs": [],
   "source": [
    "# define features\n",
    "features=['summer','r','g','act_adv_thril','runtime_minutes','year_x','production_budget']\n",
    "related_columns = features + ['domestic_gross']"
   ]
  },
  {
   "cell_type": "code",
   "execution_count": 119,
   "metadata": {
    "collapsed": false
   },
   "outputs": [
    {
     "name": "stdout",
     "output_type": "stream",
     "text": [
      "1436 movies with all necessary info.\n"
     ]
    }
   ],
   "source": [
    "#clean the data\n",
    "clean_movie = movie_inner[related_columns].dropna()\n",
    "print '%i movies with all necessary info.' % len(clean_movie)"
   ]
  },
  {
   "cell_type": "code",
   "execution_count": 120,
   "metadata": {
    "collapsed": false
   },
   "outputs": [
    {
     "data": {
      "text/html": [
       "<table class=\"simpletable\">\n",
       "<caption>OLS Regression Results</caption>\n",
       "<tr>\n",
       "  <th>Dep. Variable:</th>     <td>domestic_gross</td>  <th>  R-squared:         </th> <td>   0.327</td> \n",
       "</tr>\n",
       "<tr>\n",
       "  <th>Model:</th>                   <td>OLS</td>       <th>  Adj. R-squared:    </th> <td>   0.324</td> \n",
       "</tr>\n",
       "<tr>\n",
       "  <th>Method:</th>             <td>Least Squares</td>  <th>  F-statistic:       </th> <td>   99.19</td> \n",
       "</tr>\n",
       "<tr>\n",
       "  <th>Date:</th>             <td>Thu, 30 Jun 2016</td> <th>  Prob (F-statistic):</th> <td>3.45e-118</td>\n",
       "</tr>\n",
       "<tr>\n",
       "  <th>Time:</th>                 <td>17:30:38</td>     <th>  Log-Likelihood:    </th> <td> -27636.</td> \n",
       "</tr>\n",
       "<tr>\n",
       "  <th>No. Observations:</th>      <td>  1436</td>      <th>  AIC:               </th> <td>5.529e+04</td>\n",
       "</tr>\n",
       "<tr>\n",
       "  <th>Df Residuals:</th>          <td>  1428</td>      <th>  BIC:               </th> <td>5.533e+04</td>\n",
       "</tr>\n",
       "<tr>\n",
       "  <th>Df Model:</th>              <td>     7</td>      <th>                     </th>     <td> </td>    \n",
       "</tr>\n",
       "<tr>\n",
       "  <th>Covariance Type:</th>      <td>nonrobust</td>    <th>                     </th>     <td> </td>    \n",
       "</tr>\n",
       "</table>\n",
       "<table class=\"simpletable\">\n",
       "<tr>\n",
       "          <td></td>             <th>coef</th>     <th>std err</th>      <th>t</th>      <th>P>|t|</th> <th>[95.0% Conf. Int.]</th> \n",
       "</tr>\n",
       "<tr>\n",
       "  <th>const</th>             <td> 3.183e+09</td> <td> 4.43e+08</td> <td>    7.191</td> <td> 0.000</td> <td> 2.31e+09  4.05e+09</td>\n",
       "</tr>\n",
       "<tr>\n",
       "  <th>summer</th>            <td> 1.578e+07</td> <td> 3.21e+06</td> <td>    4.917</td> <td> 0.000</td> <td> 9.49e+06  2.21e+07</td>\n",
       "</tr>\n",
       "<tr>\n",
       "  <th>r</th>                 <td>-1.322e+07</td> <td> 3.15e+06</td> <td>   -4.192</td> <td> 0.000</td> <td>-1.94e+07 -7.03e+06</td>\n",
       "</tr>\n",
       "<tr>\n",
       "  <th>g</th>                 <td> 3.686e+07</td> <td> 1.02e+07</td> <td>    3.620</td> <td> 0.000</td> <td> 1.69e+07  5.68e+07</td>\n",
       "</tr>\n",
       "<tr>\n",
       "  <th>act_adv_thril</th>     <td>-5.762e+06</td> <td> 3.15e+06</td> <td>   -1.827</td> <td> 0.068</td> <td>-1.19e+07  4.26e+05</td>\n",
       "</tr>\n",
       "<tr>\n",
       "  <th>runtime_minutes</th>   <td> 2.526e+05</td> <td> 7.72e+04</td> <td>    3.271</td> <td> 0.001</td> <td> 1.01e+05  4.04e+05</td>\n",
       "</tr>\n",
       "<tr>\n",
       "  <th>year_x</th>            <td>-1.586e+06</td> <td>  2.2e+05</td> <td>   -7.206</td> <td> 0.000</td> <td>-2.02e+06 -1.15e+06</td>\n",
       "</tr>\n",
       "<tr>\n",
       "  <th>production_budget</th> <td>    0.7774</td> <td>    0.043</td> <td>   18.195</td> <td> 0.000</td> <td>    0.694     0.861</td>\n",
       "</tr>\n",
       "</table>\n",
       "<table class=\"simpletable\">\n",
       "<tr>\n",
       "  <th>Omnibus:</th>       <td>693.938</td> <th>  Durbin-Watson:     </th> <td>   1.889</td>\n",
       "</tr>\n",
       "<tr>\n",
       "  <th>Prob(Omnibus):</th> <td> 0.000</td>  <th>  Jarque-Bera (JB):  </th> <td>5580.716</td>\n",
       "</tr>\n",
       "<tr>\n",
       "  <th>Skew:</th>          <td> 2.091</td>  <th>  Prob(JB):          </th> <td>    0.00</td>\n",
       "</tr>\n",
       "<tr>\n",
       "  <th>Kurtosis:</th>      <td>11.706</td>  <th>  Cond. No.          </th> <td>1.86e+10</td>\n",
       "</tr>\n",
       "</table>"
      ],
      "text/plain": [
       "<class 'statsmodels.iolib.summary.Summary'>\n",
       "\"\"\"\n",
       "                            OLS Regression Results                            \n",
       "==============================================================================\n",
       "Dep. Variable:         domestic_gross   R-squared:                       0.327\n",
       "Model:                            OLS   Adj. R-squared:                  0.324\n",
       "Method:                 Least Squares   F-statistic:                     99.19\n",
       "Date:                Thu, 30 Jun 2016   Prob (F-statistic):          3.45e-118\n",
       "Time:                        17:30:38   Log-Likelihood:                -27636.\n",
       "No. Observations:                1436   AIC:                         5.529e+04\n",
       "Df Residuals:                    1428   BIC:                         5.533e+04\n",
       "Df Model:                           7                                         \n",
       "Covariance Type:            nonrobust                                         \n",
       "=====================================================================================\n",
       "                        coef    std err          t      P>|t|      [95.0% Conf. Int.]\n",
       "-------------------------------------------------------------------------------------\n",
       "const              3.183e+09   4.43e+08      7.191      0.000      2.31e+09  4.05e+09\n",
       "summer             1.578e+07   3.21e+06      4.917      0.000      9.49e+06  2.21e+07\n",
       "r                 -1.322e+07   3.15e+06     -4.192      0.000     -1.94e+07 -7.03e+06\n",
       "g                  3.686e+07   1.02e+07      3.620      0.000      1.69e+07  5.68e+07\n",
       "act_adv_thril     -5.762e+06   3.15e+06     -1.827      0.068     -1.19e+07  4.26e+05\n",
       "runtime_minutes    2.526e+05   7.72e+04      3.271      0.001      1.01e+05  4.04e+05\n",
       "year_x            -1.586e+06    2.2e+05     -7.206      0.000     -2.02e+06 -1.15e+06\n",
       "production_budget     0.7774      0.043     18.195      0.000         0.694     0.861\n",
       "==============================================================================\n",
       "Omnibus:                      693.938   Durbin-Watson:                   1.889\n",
       "Prob(Omnibus):                  0.000   Jarque-Bera (JB):             5580.716\n",
       "Skew:                           2.091   Prob(JB):                         0.00\n",
       "Kurtosis:                      11.706   Cond. No.                     1.86e+10\n",
       "==============================================================================\n",
       "\n",
       "Warnings:\n",
       "[1] Standard Errors assume that the covariance matrix of the errors is correctly specified.\n",
       "[2] The condition number is large, 1.86e+10. This might indicate that there are\n",
       "strong multicollinearity or other numerical problems.\n",
       "\"\"\""
      ]
     },
     "execution_count": 120,
     "metadata": {},
     "output_type": "execute_result"
    }
   ],
   "source": [
    "# build a model\n",
    "import statsmodels.api as sma\n",
    "Y = clean_movie['domestic_gross']\n",
    "X = sma.add_constant(clean_movie[features])\n",
    "dm_gross_model = sma.OLS(Y, X).fit()\n",
    "dm_gross_model.summary()"
   ]
  },
  {
   "cell_type": "code",
   "execution_count": 121,
   "metadata": {
    "collapsed": false
   },
   "outputs": [
    {
     "data": {
      "text/plain": [
       "<matplotlib.text.Text at 0x11dd5a58>"
      ]
     },
     "execution_count": 121,
     "metadata": {},
     "output_type": "execute_result"
    },
    {
     "data": {
      "image/png": "[encoded data removed]",
      "text/plain": [
       "<matplotlib.figure.Figure at 0x11d2b128>"
      ]
     },
     "metadata": {},
     "output_type": "display_data"
    }
   ],
   "source": [
    "predicted_gross = dm_gross_model.predict(X)\n",
    "plt.scatter(clean_movie.domestic_gross, predicted_gross, color='gray')\n",
    "plt.plot(clean_movie.domestic_gross, clean_movie.domestic_gross)\n",
    "plt.title(\"Actual vs. Predicted Domestic Gross\")\n",
    "plt.xlabel(\"Actual Domestic Gross ($100M)\")\n",
    "plt.ylabel(\"Predicted Domestic Gross ($100M)\")"
   ]
  },
  {
   "cell_type": "code",
   "execution_count": null,
   "metadata": {
    "collapsed": true
   },
   "outputs": [],
   "source": [
    "def model_eq(summer_ind,holiday_ind,opening_weekend_take,pg13_und_ind,drama_romance_ind,\n",
    "             act_adv_thril_ind,comedy_ind,fant_hor_sci_ind,other_gen_ind,metascore):\n",
    "    \"\"\"\n",
    "    returns predicted worldwide gross based on indicators\n",
    "    summer_ind: is movie released in may-aug (1,0)\n",
    "    holiday_ind: is movie released in nov-dec (1,0)\n",
    "    opening_weekend_take: estimate (or actual) opening weekend take (millions)\n",
    "    pg13_und_ind: is the movie rated pg13 or under? (1,0)\n",
    "    drama_romance_ind: is the movie genre drama or romance? (1,0)\n",
    "    act_adv_thril_ind: is the movie genre action, adventure, or romance? (1,0)\n",
    "    comedy_ind: is the movie genre comedy? (1,0)\n",
    "    fant_hor_sci_ind: is the movie genre fantasy, horror, or sci-fi? (1,0)\n",
    "    metascore: actual or predicted metacritic score\n",
    "    \"\"\"\n",
    "    pred_ww_gross=-9.27e+07+1.956e+07*summer_ind+4.353e+07*holiday_ind+7.2976*opening_weekend_take+2.169e+07*pg13_und_ind-1.945e+06*drama_romance_ind+1.757e+07*act_adv_thril_ind+3.626e+06*comedy_ind-4.762e+05*fant_hor_sci_ind-2.342e+07*other_gen_ind+1.303e+06*metascore\n",
    "    return pred_ww_gross"
   ]
  }
 ],
 "metadata": {
  "kernelspec": {
   "display_name": "Python 2",
   "language": "python",
   "name": "python2"
  },
  "language_info": {
   "codemirror_mode": {
    "name": "ipython",
    "version": 2
   },
   "file_extension": ".py",
   "mimetype": "text/x-python",
   "name": "python",
   "nbconvert_exporter": "python",
   "pygments_lexer": "ipython2",
   "version": "2.7.11"
  }
 },
 "nbformat": 4,
 "nbformat_minor": 0
}
